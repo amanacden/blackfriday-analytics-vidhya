{
 "cells": [
  {
   "cell_type": "code",
   "execution_count": 1,
   "metadata": {
    "_cell_guid": "b1076dfc-b9ad-4769-8c92-a6c4dae69d19",
    "_uuid": "8f2839f25d086af736a60e9eeb907d3b93b6e0e5"
   },
   "outputs": [],
   "source": [
    "#importing libraries\n",
    "import numpy as np \n",
    "import pandas as pd\n",
    "from math import *\n",
    "from sklearn.model_selection import train_test_split\n",
    "from sklearn.preprocessing import MinMaxScaler, LabelEncoder\n",
    "from sklearn.linear_model import LinearRegression, Ridge, Lasso, ElasticNet\n",
    "from sklearn.tree import DecisionTreeRegressor\n",
    "from sklearn.ensemble import RandomForestRegressor\n",
    "import xgboost as xgb\n",
    "from sklearn.metrics import mean_squared_error, r2_score\n",
    "\n",
    "import seaborn as sns\n",
    "sns.set_style('darkgrid')\n",
    "import matplotlib.pyplot as plt\n",
    "\n",
    "pd.set_option('display.max_columns', 100)\n",
    "import warnings\n",
    "warnings.filterwarnings('ignore')        \n",
    "\n",
    "#reading test and train dataset files\n",
    "train = pd.read_csv(\"../input/blackfriday/train.csv\")\n",
    "test = pd.read_csv(\"../input/blackfriday/test.csv\")\n",
    "\n",
    "#creating dataframe for the required output\n",
    "submission = pd.DataFrame()\n",
    "submission['User_ID'] = test['User_ID']\n",
    "submission['Product_ID'] = test['Product_ID']"
   ]
  },
  {
   "cell_type": "markdown",
   "metadata": {},
   "source": [
    "**Label encoding** following columns : Gender, Age, City Category,Stay in Current City Years"
   ]
  },
  {
   "cell_type": "code",
   "execution_count": 2,
   "metadata": {},
   "outputs": [],
   "source": [
    "gender_dict = {'F':0, 'M':1}\n",
    "age_dict = {'0-17':0, '18-25':1, '26-35':2, '36-45':3, '46-50':4, '51-55':5, '55+':6}\n",
    "city_dict = {'A':0, 'B':1, 'C':2}\n",
    "stay_dict = {'0':0, '1':1, '2':2, '3':3, '4+':4}\n",
    "\n",
    "train[\"Gender\"] = train[\"Gender\"].apply(lambda x: gender_dict[x])\n",
    "test[\"Gender\"] = test[\"Gender\"].apply(lambda x: gender_dict[x])\n",
    "\n",
    "train[\"Age\"] = train[\"Age\"].apply(lambda x: age_dict[x])\n",
    "test[\"Age\"] = test[\"Age\"].apply(lambda x: age_dict[x])\n",
    "\n",
    "train[\"City_Category\"] = train[\"City_Category\"].apply(lambda x: city_dict[x])\n",
    "test[\"City_Category\"] = test[\"City_Category\"].apply(lambda x: city_dict[x])\n",
    "\n",
    "train[\"Stay_In_Current_City_Years\"] = train[\"Stay_In_Current_City_Years\"].apply(lambda x: stay_dict[x])\n",
    "test[\"Stay_In_Current_City_Years\"] = test[\"Stay_In_Current_City_Years\"].apply(lambda x: stay_dict[x])"
   ]
  },
  {
   "cell_type": "markdown",
   "metadata": {},
   "source": [
    "**Feature Engineering**"
   ]
  },
  {
   "cell_type": "markdown",
   "metadata": {},
   "source": [
    "Creating a **Count Column** for each caetgory"
   ]
  },
  {
   "cell_type": "code",
   "execution_count": 3,
   "metadata": {},
   "outputs": [],
   "source": [
    "train[\"Age_Count\"] = train.groupby(['Age'])['Age'].transform('count')\n",
    "age_count_dict = train.groupby(['Age']).size().to_dict()\n",
    "test['Age_Count'] = test['Age'].apply(lambda x:age_count_dict.get(x,0))\n",
    "\n",
    "train[\"Occupation_Count\"] = train.groupby(['Occupation'])['Occupation'].transform('count')\n",
    "occupation_count_dict = train.groupby(['Occupation']).size().to_dict()\n",
    "test['Occupation_Count'] = test['Occupation'].apply(lambda x:occupation_count_dict.get(x,0))\n",
    "\n",
    "train[\"Product_Category_1_Count\"] = train.groupby(['Product_Category_1'])['Product_Category_1'].transform('count')\n",
    "pc1_count_dict = train.groupby(['Product_Category_1']).size().to_dict()\n",
    "test['Product_Category_1_Count'] = test['Product_Category_1'].apply(lambda x:pc1_count_dict.get(x,0))\n",
    "\n",
    "train[\"Product_Category_2_Count\"] = train.groupby(['Product_Category_2'])['Product_Category_2'].transform('count')\n",
    "pc2_count_dict = train.groupby(['Product_Category_2']).size().to_dict()\n",
    "test['Product_Category_2_Count'] = test['Product_Category_2'].apply(lambda x:pc2_count_dict.get(x,0))\n",
    "\n",
    "train[\"Product_Category_3_Count\"] = train.groupby(['Product_Category_3'])['Product_Category_3'].transform('count')\n",
    "pc3_count_dict = train.groupby(['Product_Category_3']).size().to_dict()\n",
    "test['Product_Category_3_Count'] = test['Product_Category_3'].apply(lambda x:pc3_count_dict.get(x,0))\n",
    "\n",
    "train[\"User_ID_Count\"] = train.groupby(['User_ID'])['User_ID'].transform('count')\n",
    "userID_count_dict = train.groupby(['User_ID']).size().to_dict()\n",
    "test['User_ID_Count'] = test['User_ID'].apply(lambda x:userID_count_dict.get(x,0))\n",
    "\n",
    "train[\"Product_ID_Count\"] = train.groupby(['Product_ID'])['Product_ID'].transform('count')\n",
    "productID_count_dict = train.groupby(['Product_ID']).size().to_dict()\n",
    "test['Product_ID_Count'] = test['Product_ID'].apply(lambda x:productID_count_dict.get(x,0))"
   ]
  },
  {
   "cell_type": "markdown",
   "metadata": {},
   "source": [
    "Creating **mean, max, min columns** on **Purchase** feature for each category"
   ]
  },
  {
   "cell_type": "code",
   "execution_count": 4,
   "metadata": {},
   "outputs": [],
   "source": [
    "train[\"User_ID_MinPrice\"] = train.groupby(['User_ID'])['Purchase'].transform('min')\n",
    "userID_min_dict = train.groupby(['User_ID'])['Purchase'].min().to_dict()\n",
    "test['User_ID_MinPrice'] = test['User_ID'].apply(lambda x:userID_min_dict.get(x,0))\n",
    "\n",
    "train[\"User_ID_MaxPrice\"] = train.groupby(['User_ID'])['Purchase'].transform('max')\n",
    "userID_max_dict = train.groupby(['User_ID'])['Purchase'].max().to_dict()\n",
    "test['User_ID_MaxPrice'] = test['User_ID'].apply(lambda x:userID_max_dict.get(x,0))\n",
    "\n",
    "train[\"User_ID_MeanPrice\"] = train.groupby(['User_ID'])['Purchase'].transform('mean')\n",
    "userID_mean_dict = train.groupby(['User_ID'])['Purchase'].mean().to_dict()\n",
    "test['User_ID_MeanPrice'] = test['User_ID'].apply(lambda x:userID_mean_dict.get(x,0))\n",
    "\n",
    "\n",
    "train[\"Product_ID_MinPrice\"] = train.groupby(['Product_ID'])['Purchase'].transform('min')\n",
    "productID_min_dict = train.groupby(['Product_ID'])['Purchase'].min().to_dict()\n",
    "test['Product_ID_MinPrice'] = test['Product_ID'].apply(lambda x:productID_min_dict.get(x,0))\n",
    "\n",
    "train[\"Product_ID_MaxPrice\"] = train.groupby(['Product_ID'])['Purchase'].transform('max')\n",
    "productID_max_dict = train.groupby(['Product_ID'])['Purchase'].max().to_dict()\n",
    "test['Product_ID_MaxPrice'] = test['Product_ID'].apply(lambda x:productID_max_dict.get(x,0))\n",
    "\n",
    "train[\"Product_ID_MeanPrice\"] = train.groupby(['Product_ID'])['Purchase'].transform('mean')\n",
    "productID_mean_dict = train.groupby(['Product_ID'])['Purchase'].mean().to_dict()\n",
    "test['Product_ID_MeanPrice'] = test['Product_ID'].apply(lambda x:productID_mean_dict.get(x,0))"
   ]
  },
  {
   "cell_type": "markdown",
   "metadata": {},
   "source": [
    "Also, creating **25th and 75th percentile** columns on **Purchase** feature for each category"
   ]
  },
  {
   "cell_type": "code",
   "execution_count": 5,
   "metadata": {},
   "outputs": [],
   "source": [
    "userID_25p_dict = train.groupby(['User_ID'])['Purchase'].apply(lambda x:np.percentile(x,25)).to_dict()\n",
    "train['User_ID_25PercPrice'] = train['User_ID'].apply(lambda x:userID_25p_dict.get(x,0))\n",
    "test['User_ID_25PercPrice'] = test['User_ID'].apply(lambda x:userID_25p_dict.get(x,0))\n",
    "\n",
    "userID_75p_dict = train.groupby(['User_ID'])['Purchase'].apply(lambda x:np.percentile(x,75)).to_dict()\n",
    "train['User_ID_75PercPrice'] = train['User_ID'].apply(lambda x:userID_75p_dict.get(x,0))\n",
    "test['User_ID_75PercPrice'] = test['User_ID'].apply(lambda x:userID_75p_dict.get(x,0))\n",
    "\n",
    "productID_25p_dict = train.groupby(['Product_ID'])['Purchase'].apply(lambda x:np.percentile(x,25)).to_dict()\n",
    "train['Product_ID_25PercPrice'] = train['Product_ID'].apply(lambda x:productID_25p_dict.get(x,0))\n",
    "test['Product_ID_25PercPrice'] = test['Product_ID'].apply(lambda x:productID_25p_dict.get(x,0))\n",
    "\n",
    "productID_75p_dict = train.groupby(['Product_ID'])['Purchase'].apply(lambda x:np.percentile(x,75)).to_dict()\n",
    "train['Product_ID_75PercPrice'] = train['Product_ID'].apply(lambda x:productID_75p_dict.get(x,0))\n",
    "test['Product_ID_75PercPrice'] = test['Product_ID'].apply(lambda x:productID_75p_dict.get(x,0))\n",
    "\n",
    "\n",
    "train[\"Product_Cat1_MinPrice\"] = train.groupby(['Product_Category_1'])['Purchase'].transform('min')\n",
    "pc1_min_dict = train.groupby(['Product_Category_1'])['Purchase'].min().to_dict()\n",
    "test['Product_Cat1_MinPrice'] = test['Product_Category_1'].apply(lambda x:pc1_min_dict.get(x,0))\n",
    "\n",
    "train[\"Product_Cat1_MaxPrice\"] = train.groupby(['Product_Category_1'])['Purchase'].transform('max')\n",
    "pc1_max_dict = train.groupby(['Product_Category_1'])['Purchase'].max().to_dict()\n",
    "test['Product_Cat1_MaxPrice'] = test['Product_Category_1'].apply(lambda x:pc1_max_dict.get(x,0))\n",
    "\n",
    "train[\"Product_Cat1_MeanPrice\"] = train.groupby(['Product_Category_1'])['Purchase'].transform('mean')\n",
    "pc1_mean_dict = train.groupby(['Product_Category_1'])['Purchase'].mean().to_dict()\n",
    "test['Product_Cat1_MeanPrice'] = test['Product_Category_1'].apply(lambda x:pc1_mean_dict.get(x,0))\n",
    "\n",
    "pc1_25p_dict = train.groupby(['Product_Category_1'])['Purchase'].apply(lambda x:np.percentile(x,25)).to_dict()\n",
    "train['Product_Cat1_25PercPrice'] = train['Product_Category_1'].apply(lambda x:pc1_25p_dict.get(x,0))\n",
    "test['Product_Cat1_25PercPrice'] = test['Product_Category_1'].apply(lambda x:pc1_25p_dict.get(x,0))\n",
    "\n",
    "pc1_75p_dict = train.groupby(['Product_Category_1'])['Purchase'].apply(lambda x:np.percentile(x,75)).to_dict()\n",
    "train['Product_Cat1_75PercPrice'] = train['Product_Category_1'].apply(lambda x:pc1_75p_dict.get(x,0))\n",
    "test['Product_Cat1_75PercPrice'] = test['Product_Category_1'].apply(lambda x:pc1_75p_dict.get(x,0))\n",
    "\n",
    "\n",
    "train[\"Product_Cat2_MinPrice\"] = train.groupby(['Product_Category_2'])['Purchase'].transform('min')\n",
    "pc2_min_dict = train.groupby(['Product_Category_2'])['Purchase'].min().to_dict()\n",
    "test['Product_Cat2_MinPrice'] = test['Product_Category_2'].apply(lambda x:pc2_min_dict.get(x,0))\n",
    "\n",
    "train[\"Product_Cat2_MaxPrice\"] = train.groupby(['Product_Category_2'])['Purchase'].transform('max')\n",
    "pc2_max_dict = train.groupby(['Product_Category_2'])['Purchase'].max().to_dict()\n",
    "test['Product_Cat2_MaxPrice'] = test['Product_Category_2'].apply(lambda x:pc2_max_dict.get(x,0))\n",
    "\n",
    "train[\"Product_Cat2_MeanPrice\"] = train.groupby(['Product_Category_2'])['Purchase'].transform('mean')\n",
    "pc2_mean_dict = train.groupby(['Product_Category_2'])['Purchase'].mean().to_dict()\n",
    "test['Product_Cat2_MeanPrice'] = test['Product_Category_2'].apply(lambda x:pc2_mean_dict.get(x,0))\n",
    "\n",
    "pc2_25p_dict = train.groupby(['Product_Category_2'])['Purchase'].apply(lambda x:np.percentile(x,25)).to_dict()\n",
    "train['Product_Cat2_25PercPrice'] = train['Product_Category_2'].apply(lambda x:pc2_25p_dict.get(x,0))\n",
    "test['Product_Cat2_25PercPrice'] = test['Product_Category_2'].apply(lambda x:pc2_25p_dict.get(x,0))\n",
    "\n",
    "pc2_75p_dict = train.groupby(['Product_Category_2'])['Purchase'].apply(lambda x:np.percentile(x,75)).to_dict()\n",
    "train['Product_Cat2_75PercPrice'] = train['Product_Category_2'].apply(lambda x:pc2_75p_dict.get(x,0))\n",
    "test['Product_Cat2_75PercPrice'] = test['Product_Category_2'].apply(lambda x:pc2_75p_dict.get(x,0))\n",
    "\n",
    "\n",
    "train[\"Product_Cat3_MinPrice\"] = train.groupby(['Product_Category_3'])['Purchase'].transform('min')\n",
    "pc3_min_dict = train.groupby(['Product_Category_3'])['Purchase'].min().to_dict()\n",
    "test['Product_Cat3_MinPrice'] = test['Product_Category_3'].apply(lambda x:pc3_min_dict.get(x,0))\n",
    "\n",
    "train[\"Product_Cat3_MaxPrice\"] = train.groupby(['Product_Category_3'])['Purchase'].transform('max')\n",
    "pc3_max_dict = train.groupby(['Product_Category_3'])['Purchase'].max().to_dict()\n",
    "test['Product_Cat3_MaxPrice'] = test['Product_Category_3'].apply(lambda x:pc3_max_dict.get(x,0))\n",
    "\n",
    "train[\"Product_Cat3_MeanPrice\"] = train.groupby(['Product_Category_3'])['Purchase'].transform('mean')\n",
    "pc3_mean_dict = train.groupby(['Product_Category_3'])['Purchase'].mean().to_dict()\n",
    "test['Product_Cat3_MeanPrice'] = test['Product_Category_3'].apply(lambda x:pc3_mean_dict.get(x,0))\n",
    "\n",
    "pc3_25p_dict = train.groupby(['Product_Category_3'])['Purchase'].apply(lambda x:np.percentile(x,25)).to_dict()\n",
    "train['Product_Cat3_25PercPrice'] = train['Product_Category_3'].apply(lambda x:pc3_25p_dict.get(x,0))\n",
    "test['Product_Cat3_25PercPrice'] = test['Product_Category_3'].apply(lambda x:pc3_25p_dict.get(x,0))\n",
    "\n",
    "pc3_75p_dict = train.groupby(['Product_Category_3'])['Purchase'].apply(lambda x:np.percentile(x,75)).to_dict()\n",
    "train['Product_Cat3_75PercPrice'] = train['Product_Category_3'].apply(lambda x:pc3_75p_dict.get(x,0))\n",
    "test['Product_Cat3_75PercPrice'] = test['Product_Category_3'].apply(lambda x:pc3_75p_dict.get(x,0))"
   ]
  },
  {
   "cell_type": "code",
   "execution_count": 6,
   "metadata": {},
   "outputs": [],
   "source": [
    "#seperating the dependant variable \n",
    "train_y = train[\"Purchase\"]\n",
    "train.drop([\"Purchase\"], axis=1, inplace=True)\n",
    "\n",
    "#filling missing values in product categories 2 & 3 by by any constant number say -999\n",
    "train.fillna(-999, inplace=True)\n",
    "test.fillna(-999, inplace=True)\n",
    "\n",
    "#label encoding User ID and Product ID\n",
    "from sklearn.preprocessing import LabelEncoder\n",
    "cat_columns_list = [\"User_ID\", \"Product_ID\"]\n",
    "for var in cat_columns_list:\n",
    "    lb = LabelEncoder()\n",
    "    full_var_data = pd.concat((train[var],test[var]),axis=0).astype('str')\n",
    "    temp = lb.fit_transform(np.array(full_var_data))\n",
    "    train[var] = lb.transform(np.array( train[var] ).astype('str'))\n",
    "    test[var] = lb.transform(np.array( test[var] ).astype('str'))"
   ]
  },
  {
   "cell_type": "markdown",
   "metadata": {},
   "source": [
    "> *For All the models,*\n",
    "1. Splitting Train set into train and validation set in 80:20 ratio\n",
    "1. **Hyperparameter** have been found by checking **R2 & RMSE score on validation set** using **GridSearchCV**\n",
    "1. Training the model with complete Train set and getting **predictions** for '**Purchase' feature** of Test set in a **.csv file**"
   ]
  },
  {
   "cell_type": "markdown",
   "metadata": {},
   "source": [
    "** 1. Decision Tree Regressor**"
   ]
  },
  {
   "cell_type": "code",
   "execution_count": 7,
   "metadata": {},
   "outputs": [],
   "source": [
    "X_train,X_test,Y_train,Y_test = train_test_split(train,train_y,test_size=0.2,random_state=42)"
   ]
  },
  {
   "cell_type": "code",
   "execution_count": 8,
   "metadata": {},
   "outputs": [
    {
     "name": "stdout",
     "output_type": "stream",
     "text": [
      "RMSE Error: 2516.274639890895\n",
      "R2 Score: 0.7480063393147172\n"
     ]
    }
   ],
   "source": [
    "dtr = DecisionTreeRegressor(max_depth = 10)\n",
    "dtr.fit(X_train,Y_train)\n",
    "y_pred = dtr.predict(X_test)\n",
    "\n",
    "# finding the mean_squared error\n",
    "mse = mean_squared_error(Y_test, y_pred)\n",
    "print(\"RMSE Error:\", np.sqrt(mse))\n",
    "\n",
    "# finding the r2 score or the variance\n",
    "r2 = r2_score(Y_test, y_pred)\n",
    "print(\"R2 Score:\", r2)"
   ]
  },
  {
   "cell_type": "markdown",
   "metadata": {},
   "source": [
    "**2. Linear Regression**"
   ]
  },
  {
   "cell_type": "markdown",
   "metadata": {},
   "source": [
    "1. **One Hot Encoding** all Categorical features for all Linear models\n",
    "1. Removing rows corresponding to the unique categorical values only available in train set, not in test set\n",
    "1. **Removing outliers** rows by performing **boxplot analysis on Purchase** feature"
   ]
  },
  {
   "cell_type": "code",
   "execution_count": 9,
   "metadata": {},
   "outputs": [
    {
     "data": {
      "image/png": "[encoded data removed]",
      "text/plain": [
       "<Figure size 432x288 with 1 Axes>"
      ]
     },
     "metadata": {
      "needs_background": "light"
     },
     "output_type": "display_data"
    }
   ],
   "source": [
    "linear_test = test\n",
    "linear_train = train\n",
    "\n",
    "#dropping User ID and Product ID\n",
    "linear_train = pd.concat([linear_train,train_y],1)\n",
    "linear_train = linear_train.drop(['User_ID', 'Product_ID'],1)\n",
    "linear_test = linear_test.drop(['User_ID', 'Product_ID'],1)\n",
    "\n",
    "#removing rows corresponding to the unique categorical values only available in train set, not in test set\n",
    "linear_train = linear_train.drop(linear_train[(linear_train['Product_Category_1']==19) | (linear_train['Product_Category_1']==20) | (linear_train['Product_Category_3']==2) | (linear_train['Product_Category_3']==7)].index)\n",
    "\n",
    "sns.boxplot(linear_train['Purchase'])\n",
    "\n",
    "q1 = linear_train['Purchase'].quantile(0.25)\n",
    "q3 = linear_train['Purchase'].quantile(0.75)\n",
    "iqr = q3-q1 #Interquartile range\n",
    "fence_low  = q1-1.5*iqr\n",
    "fence_high = q3+1.5*iqr\n",
    "linear_train = linear_train[(linear_train['Purchase'] > fence_low) & (linear_train['Purchase'] < fence_high)]\n",
    "\n",
    "#separating dependant variable\n",
    "linear_train_y = linear_train[\"Purchase\"]\n",
    "linear_train.drop([\"Purchase\"], axis=1, inplace=True)\n",
    "\n",
    "#chanding data type of categorical variable to string so as to one hot encode them using get_dummies\n",
    "strlist = ['Gender', 'Age', 'Occupation', 'City_Category',\n",
    "       'Stay_In_Current_City_Years', 'Marital_Status', 'Product_Category_1',\n",
    "       'Product_Category_2', 'Product_Category_3']\n",
    "for s in strlist:\n",
    "    linear_train[s] = linear_train[s].astype(str)\n",
    "    linear_test[s] = linear_test[s].astype(str)"
   ]
  },
  {
   "cell_type": "code",
   "execution_count": 10,
   "metadata": {},
   "outputs": [],
   "source": [
    "#One Hot encoding categorical variables\n",
    "linear_train = pd.get_dummies(linear_train, drop_first = True)\n",
    "linear_test = pd.get_dummies(linear_test, drop_first = True)"
   ]
  },
  {
   "cell_type": "code",
   "execution_count": 11,
   "metadata": {},
   "outputs": [],
   "source": [
    "#Scaling all the variables in range of 0 to 1\n",
    "scaler = MinMaxScaler()\n",
    "linear_train = scaler.fit_transform(linear_train)\n",
    "linear_test = scaler.transform(linear_test)"
   ]
  },
  {
   "cell_type": "markdown",
   "metadata": {},
   "source": [
    "Splitting into train and validation and appliing 4 Linear Models: "
   ]
  },
  {
   "cell_type": "code",
   "execution_count": 12,
   "metadata": {},
   "outputs": [],
   "source": [
    "X_train,X_test,Y_train,Y_test = train_test_split(linear_train,linear_train_y,test_size=0.2,random_state=42)"
   ]
  },
  {
   "cell_type": "markdown",
   "metadata": {},
   "source": [
    "*Checking R2 and RMSE score on validation set for the below 4 linear models*"
   ]
  },
  {
   "cell_type": "markdown",
   "metadata": {},
   "source": [
    "**2. Linear Regression**"
   ]
  },
  {
   "cell_type": "code",
   "execution_count": 13,
   "metadata": {},
   "outputs": [
    {
     "name": "stdout",
     "output_type": "stream",
     "text": [
      "RMSE Error: 2545.477934726935\n",
      "R2 Score: 0.7293623588176117\n"
     ]
    }
   ],
   "source": [
    "from sklearn.linear_model import LinearRegression\n",
    "regressor = LinearRegression()\n",
    "regressor.fit(X_train, Y_train)\n",
    "y_pred = regressor.predict(X_test)\n",
    "\n",
    "# finding the mean_squared error\n",
    "mse = mean_squared_error(Y_test, y_pred)\n",
    "print(\"RMSE Error:\", np.sqrt(mse))\n",
    "\n",
    "# finding the r2 score or the variance\n",
    "r2 = r2_score(Y_test, y_pred)\n",
    "print(\"R2 Score:\", r2)"
   ]
  },
  {
   "cell_type": "markdown",
   "metadata": {},
   "source": [
    "**3. Ridge**"
   ]
  },
  {
   "cell_type": "code",
   "execution_count": 14,
   "metadata": {},
   "outputs": [
    {
     "name": "stdout",
     "output_type": "stream",
     "text": [
      "RMSE Error: 2545.7802043446345\n",
      "R2 Score: 0.7292980798133992\n"
     ]
    }
   ],
   "source": [
    "regressor = Ridge(alpha = 10)\n",
    "regressor.fit(X_train, Y_train)\n",
    "y_pred = regressor.predict(X_test)\n",
    "\n",
    "# finding the mean_squared error\n",
    "mse = mean_squared_error(Y_test, y_pred)\n",
    "print(\"RMSE Error:\", np.sqrt(mse))\n",
    "\n",
    "# finding the r2 score or the variance\n",
    "r2 = r2_score(Y_test, y_pred)\n",
    "print(\"R2 Score:\", r2)"
   ]
  },
  {
   "cell_type": "markdown",
   "metadata": {},
   "source": [
    "**4. Lasso**"
   ]
  },
  {
   "cell_type": "code",
   "execution_count": 15,
   "metadata": {},
   "outputs": [
    {
     "name": "stdout",
     "output_type": "stream",
     "text": [
      "RMSE Error: 2545.5381488193234\n",
      "R2 Score: 0.7293495546267338\n"
     ]
    }
   ],
   "source": [
    "regressor = Lasso(alpha = 0.1)\n",
    "regressor.fit(X_train, Y_train)\n",
    "y_pred = regressor.predict(X_test)\n",
    "\n",
    "# finding the mean_squared error\n",
    "mse = mean_squared_error(Y_test, y_pred)\n",
    "print(\"RMSE Error:\", np.sqrt(mse))\n",
    "\n",
    "# finding the r2 score or the variance\n",
    "r2 = r2_score(Y_test, y_pred)\n",
    "print(\"R2 Score:\", r2)"
   ]
  },
  {
   "cell_type": "markdown",
   "metadata": {},
   "source": [
    "**5. Elastic Net**"
   ]
  },
  {
   "cell_type": "code",
   "execution_count": 16,
   "metadata": {},
   "outputs": [
    {
     "name": "stdout",
     "output_type": "stream",
     "text": [
      "RMSE Error: 2664.8044016231897\n",
      "R2 Score: 0.7033938168945961\n"
     ]
    }
   ],
   "source": [
    "regressor = ElasticNet(alpha = 0.05)\n",
    "regressor.fit(X_train, Y_train)\n",
    "regressor.fit(X_train, Y_train)\n",
    "y_pred = regressor.predict(X_test)\n",
    "\n",
    "# finding the mean_squared error\n",
    "mse = mean_squared_error(Y_test, y_pred)\n",
    "print(\"RMSE Error:\", np.sqrt(mse))\n",
    "\n",
    "# finding the r2 score or the variance\n",
    "r2 = r2_score(Y_test, y_pred)\n",
    "print(\"R2 Score:\", r2)"
   ]
  },
  {
   "cell_type": "markdown",
   "metadata": {},
   "source": [
    "Boring Stuff Over, Now the fun begins"
   ]
  },
  {
   "cell_type": "markdown",
   "metadata": {},
   "source": [
    "Creating **2 XGBoost Models** *both with* **different learning rates** *and* **different set of features** for both of them\n",
    "1. XG Boost model 1 (learning rate = **0.5**), and features set = **alist + blist** (mentioned below)\n",
    "1. XG Boost model 2 (learinng rate = **0.3**), and features set = **alist + **clist** (mentioned below)"
   ]
  },
  {
   "cell_type": "code",
   "execution_count": 17,
   "metadata": {},
   "outputs": [],
   "source": [
    "alist = ['User_ID',\n",
    "'Product_ID',\n",
    "'Gender',\n",
    "'Age',\n",
    "'Occupation',\n",
    "'City_Category',\n",
    "'Stay_In_Current_City_Years',\n",
    "'Marital_Status',\n",
    "'Product_Category_1',\n",
    "'Product_Category_2',\n",
    "'Product_Category_3',\n",
    "'Age_Count',\n",
    "'Occupation_Count',\n",
    "'Product_Category_1_Count',\n",
    "'Product_Category_2_Count',\n",
    "'Product_Category_3_Count',\n",
    "'User_ID_Count',\n",
    "'Product_ID_Count']\n",
    "         \n",
    "blist = ['User_ID_MinPrice',\n",
    "'User_ID_MaxPrice',\n",
    "'User_ID_MeanPrice',\n",
    "'Product_ID_MinPrice',\n",
    "'Product_ID_MaxPrice',\n",
    "'Product_ID_MeanPrice']\n",
    "\n",
    "clist = ['User_ID_25PercPrice',\n",
    "'User_ID_75PercPrice',\n",
    "'Product_ID_25PercPrice',\n",
    "'Product_ID_75PercPrice',\n",
    "'Product_Cat1_MinPrice',\n",
    "'Product_Cat1_MaxPrice',\n",
    "'Product_Cat1_MeanPrice',\n",
    "'Product_Cat1_25PercPrice',\n",
    "'Product_Cat1_75PercPrice',\n",
    "'Product_Cat2_MinPrice',\n",
    "'Product_Cat2_MaxPrice',\n",
    "'Product_Cat2_MeanPrice',\n",
    "'Product_Cat2_25PercPrice',\n",
    "'Product_Cat2_75PercPrice',\n",
    "'Product_Cat3_MinPrice',\n",
    "'Product_Cat3_MaxPrice',\n",
    "'Product_Cat3_MeanPrice',\n",
    "'Product_Cat3_25PercPrice',\n",
    "'Product_Cat3_75PercPrice']"
   ]
  },
  {
   "cell_type": "code",
   "execution_count": 18,
   "metadata": {},
   "outputs": [],
   "source": [
    "#XGB model 1 dataframe\n",
    "train1 = train[alist+blist]\n",
    "test1 = test[alist+blist]\n",
    "\n",
    "#XGB model 2 dataframe \n",
    "train2 = train[alist+clist]\n",
    "test2 = test[alist+clist]"
   ]
  },
  {
   "cell_type": "markdown",
   "metadata": {},
   "source": [
    "**6. XG Boost model 1**"
   ]
  },
  {
   "cell_type": "markdown",
   "metadata": {},
   "source": [
    "Splitting into train and validation to calculate R2 & RMSE score on validation set"
   ]
  },
  {
   "cell_type": "code",
   "execution_count": 19,
   "metadata": {},
   "outputs": [],
   "source": [
    "X_train,X_test,Y_train,Y_test = train_test_split(train1,train_y,test_size=0.2,random_state=42)"
   ]
  },
  {
   "cell_type": "markdown",
   "metadata": {},
   "source": [
    "Learning rate is arbitrarily set and then other parameters are found using GridSearchCV by checking R2 score & RMSE on validation set, and some parameters are set as per the general standard"
   ]
  },
  {
   "cell_type": "code",
   "execution_count": 20,
   "metadata": {},
   "outputs": [],
   "source": [
    "params = {}\n",
    "params[\"eta\"] = 0.05\n",
    "params[\"min_child_weight\"] = 10\n",
    "params[\"subsample\"] = 0.8\n",
    "params[\"colsample_bytree\"] = 0.7\n",
    "params[\"max_depth\"] = 10\n",
    "params[\"seed\"] = 0\n",
    "plst = list(params.items())\n",
    "num_rounds = 750"
   ]
  },
  {
   "cell_type": "markdown",
   "metadata": {},
   "source": [
    "**Training the XG Boost model 1** with the above mentioned hyperparameters"
   ]
  },
  {
   "cell_type": "code",
   "execution_count": 21,
   "metadata": {},
   "outputs": [],
   "source": [
    "#Takes 11 minutes to train\n",
    "xgtrain = xgb.DMatrix(X_train, label=Y_train)\n",
    "xgtest = xgb.DMatrix(X_test)\n",
    "model1 = xgb.train(plst, xgtrain, num_rounds)"
   ]
  },
  {
   "cell_type": "markdown",
   "metadata": {},
   "source": [
    "Checking the R2 and RMSE score on validation set using XG Boost model **1**"
   ]
  },
  {
   "cell_type": "code",
   "execution_count": 22,
   "metadata": {},
   "outputs": [
    {
     "name": "stdout",
     "output_type": "stream",
     "text": [
      "RMSE Score:  2407.2232066688994\n",
      "R2 Score: 0.7693750669848086\n"
     ]
    }
   ],
   "source": [
    "pred_test_y = model1.predict(xgtest)\n",
    "from sklearn.metrics import mean_squared_error, r2_score\n",
    "rmse = np.sqrt(mean_squared_error(pred_test_y, Y_test))\n",
    "print(\"RMSE Score: \",rmse)\n",
    "r2 = r2_score(Y_test, pred_test_y)\n",
    "\n",
    "print(\"R2 Score:\", r2)\n",
    "\n",
    "#This will print\n",
    "#RMSE Score:  2407.2232066688994\n",
    "#R2 Score: 0.7693750669848086"
   ]
  },
  {
   "cell_type": "markdown",
   "metadata": {},
   "source": [
    "Getting the feature importance for XG Boost model **1** ,\n",
    "* type of feature importance = 'gain’: the average gain across all splits the feature is used in"
   ]
  },
  {
   "cell_type": "code",
   "execution_count": 23,
   "metadata": {},
   "outputs": [
    {
     "data": {
      "text/html": [
       "<style  type=\"text/css\" >\n",
       "    #T_244eed3c_fc9e_11e9_b1ad_832132638e92row0_col0 {\n",
       "            font-size:  10pt;\n",
       "        }    #T_244eed3c_fc9e_11e9_b1ad_832132638e92row0_col1 {\n",
       "            font-size:  10pt;\n",
       "        }    #T_244eed3c_fc9e_11e9_b1ad_832132638e92row1_col0 {\n",
       "            font-size:  10pt;\n",
       "        }    #T_244eed3c_fc9e_11e9_b1ad_832132638e92row1_col1 {\n",
       "            font-size:  10pt;\n",
       "        }    #T_244eed3c_fc9e_11e9_b1ad_832132638e92row2_col0 {\n",
       "            font-size:  10pt;\n",
       "        }    #T_244eed3c_fc9e_11e9_b1ad_832132638e92row2_col1 {\n",
       "            font-size:  10pt;\n",
       "        }    #T_244eed3c_fc9e_11e9_b1ad_832132638e92row3_col0 {\n",
       "            font-size:  10pt;\n",
       "        }    #T_244eed3c_fc9e_11e9_b1ad_832132638e92row3_col1 {\n",
       "            font-size:  10pt;\n",
       "        }    #T_244eed3c_fc9e_11e9_b1ad_832132638e92row4_col0 {\n",
       "            font-size:  10pt;\n",
       "        }    #T_244eed3c_fc9e_11e9_b1ad_832132638e92row4_col1 {\n",
       "            font-size:  10pt;\n",
       "        }    #T_244eed3c_fc9e_11e9_b1ad_832132638e92row5_col0 {\n",
       "            font-size:  10pt;\n",
       "        }    #T_244eed3c_fc9e_11e9_b1ad_832132638e92row5_col1 {\n",
       "            font-size:  10pt;\n",
       "        }    #T_244eed3c_fc9e_11e9_b1ad_832132638e92row6_col0 {\n",
       "            font-size:  10pt;\n",
       "        }    #T_244eed3c_fc9e_11e9_b1ad_832132638e92row6_col1 {\n",
       "            font-size:  10pt;\n",
       "        }    #T_244eed3c_fc9e_11e9_b1ad_832132638e92row7_col0 {\n",
       "            font-size:  10pt;\n",
       "        }    #T_244eed3c_fc9e_11e9_b1ad_832132638e92row7_col1 {\n",
       "            font-size:  10pt;\n",
       "        }    #T_244eed3c_fc9e_11e9_b1ad_832132638e92row8_col0 {\n",
       "            font-size:  10pt;\n",
       "        }    #T_244eed3c_fc9e_11e9_b1ad_832132638e92row8_col1 {\n",
       "            font-size:  10pt;\n",
       "        }    #T_244eed3c_fc9e_11e9_b1ad_832132638e92row9_col0 {\n",
       "            font-size:  10pt;\n",
       "        }    #T_244eed3c_fc9e_11e9_b1ad_832132638e92row9_col1 {\n",
       "            font-size:  10pt;\n",
       "        }    #T_244eed3c_fc9e_11e9_b1ad_832132638e92row10_col0 {\n",
       "            font-size:  10pt;\n",
       "        }    #T_244eed3c_fc9e_11e9_b1ad_832132638e92row10_col1 {\n",
       "            font-size:  10pt;\n",
       "        }    #T_244eed3c_fc9e_11e9_b1ad_832132638e92row11_col0 {\n",
       "            font-size:  10pt;\n",
       "        }    #T_244eed3c_fc9e_11e9_b1ad_832132638e92row11_col1 {\n",
       "            font-size:  10pt;\n",
       "        }    #T_244eed3c_fc9e_11e9_b1ad_832132638e92row12_col0 {\n",
       "            font-size:  10pt;\n",
       "        }    #T_244eed3c_fc9e_11e9_b1ad_832132638e92row12_col1 {\n",
       "            font-size:  10pt;\n",
       "        }    #T_244eed3c_fc9e_11e9_b1ad_832132638e92row13_col0 {\n",
       "            font-size:  10pt;\n",
       "        }    #T_244eed3c_fc9e_11e9_b1ad_832132638e92row13_col1 {\n",
       "            font-size:  10pt;\n",
       "        }    #T_244eed3c_fc9e_11e9_b1ad_832132638e92row14_col0 {\n",
       "            font-size:  10pt;\n",
       "        }    #T_244eed3c_fc9e_11e9_b1ad_832132638e92row14_col1 {\n",
       "            font-size:  10pt;\n",
       "        }    #T_244eed3c_fc9e_11e9_b1ad_832132638e92row15_col0 {\n",
       "            font-size:  10pt;\n",
       "        }    #T_244eed3c_fc9e_11e9_b1ad_832132638e92row15_col1 {\n",
       "            font-size:  10pt;\n",
       "        }    #T_244eed3c_fc9e_11e9_b1ad_832132638e92row16_col0 {\n",
       "            font-size:  10pt;\n",
       "        }    #T_244eed3c_fc9e_11e9_b1ad_832132638e92row16_col1 {\n",
       "            font-size:  10pt;\n",
       "        }    #T_244eed3c_fc9e_11e9_b1ad_832132638e92row17_col0 {\n",
       "            font-size:  10pt;\n",
       "        }    #T_244eed3c_fc9e_11e9_b1ad_832132638e92row17_col1 {\n",
       "            font-size:  10pt;\n",
       "        }    #T_244eed3c_fc9e_11e9_b1ad_832132638e92row18_col0 {\n",
       "            font-size:  10pt;\n",
       "        }    #T_244eed3c_fc9e_11e9_b1ad_832132638e92row18_col1 {\n",
       "            font-size:  10pt;\n",
       "        }    #T_244eed3c_fc9e_11e9_b1ad_832132638e92row19_col0 {\n",
       "            font-size:  10pt;\n",
       "        }    #T_244eed3c_fc9e_11e9_b1ad_832132638e92row19_col1 {\n",
       "            font-size:  10pt;\n",
       "        }    #T_244eed3c_fc9e_11e9_b1ad_832132638e92row20_col0 {\n",
       "            font-size:  10pt;\n",
       "        }    #T_244eed3c_fc9e_11e9_b1ad_832132638e92row20_col1 {\n",
       "            font-size:  10pt;\n",
       "        }    #T_244eed3c_fc9e_11e9_b1ad_832132638e92row21_col0 {\n",
       "            font-size:  10pt;\n",
       "        }    #T_244eed3c_fc9e_11e9_b1ad_832132638e92row21_col1 {\n",
       "            font-size:  10pt;\n",
       "        }    #T_244eed3c_fc9e_11e9_b1ad_832132638e92row22_col0 {\n",
       "            font-size:  10pt;\n",
       "        }    #T_244eed3c_fc9e_11e9_b1ad_832132638e92row22_col1 {\n",
       "            font-size:  10pt;\n",
       "        }    #T_244eed3c_fc9e_11e9_b1ad_832132638e92row23_col0 {\n",
       "            font-size:  10pt;\n",
       "        }    #T_244eed3c_fc9e_11e9_b1ad_832132638e92row23_col1 {\n",
       "            font-size:  10pt;\n",
       "        }</style><table id=\"T_244eed3c_fc9e_11e9_b1ad_832132638e92\" ><thead>    <tr>        <th class=\"blank level0\" ></th>        <th class=\"col_heading level0 col0\" >Features</th>        <th class=\"col_heading level0 col1\" >Importance (%)</th>    </tr></thead><tbody>\n",
       "                <tr>\n",
       "                        <th id=\"T_244eed3c_fc9e_11e9_b1ad_832132638e92level0_row0\" class=\"row_heading level0 row0\" >0</th>\n",
       "                        <td id=\"T_244eed3c_fc9e_11e9_b1ad_832132638e92row0_col0\" class=\"data row0 col0\" >Product_ID_MeanPrice</td>\n",
       "                        <td id=\"T_244eed3c_fc9e_11e9_b1ad_832132638e92row0_col1\" class=\"data row0 col1\" >48.38</td>\n",
       "            </tr>\n",
       "            <tr>\n",
       "                        <th id=\"T_244eed3c_fc9e_11e9_b1ad_832132638e92level0_row1\" class=\"row_heading level0 row1\" >1</th>\n",
       "                        <td id=\"T_244eed3c_fc9e_11e9_b1ad_832132638e92row1_col0\" class=\"data row1 col0\" >Product_ID_MaxPrice</td>\n",
       "                        <td id=\"T_244eed3c_fc9e_11e9_b1ad_832132638e92row1_col1\" class=\"data row1 col1\" >23.96</td>\n",
       "            </tr>\n",
       "            <tr>\n",
       "                        <th id=\"T_244eed3c_fc9e_11e9_b1ad_832132638e92level0_row2\" class=\"row_heading level0 row2\" >2</th>\n",
       "                        <td id=\"T_244eed3c_fc9e_11e9_b1ad_832132638e92row2_col0\" class=\"data row2 col0\" >User_ID_MeanPrice</td>\n",
       "                        <td id=\"T_244eed3c_fc9e_11e9_b1ad_832132638e92row2_col1\" class=\"data row2 col1\" >3.31</td>\n",
       "            </tr>\n",
       "            <tr>\n",
       "                        <th id=\"T_244eed3c_fc9e_11e9_b1ad_832132638e92level0_row3\" class=\"row_heading level0 row3\" >3</th>\n",
       "                        <td id=\"T_244eed3c_fc9e_11e9_b1ad_832132638e92row3_col0\" class=\"data row3 col0\" >Product_ID_MinPrice</td>\n",
       "                        <td id=\"T_244eed3c_fc9e_11e9_b1ad_832132638e92row3_col1\" class=\"data row3 col1\" >2.35</td>\n",
       "            </tr>\n",
       "            <tr>\n",
       "                        <th id=\"T_244eed3c_fc9e_11e9_b1ad_832132638e92level0_row4\" class=\"row_heading level0 row4\" >4</th>\n",
       "                        <td id=\"T_244eed3c_fc9e_11e9_b1ad_832132638e92row4_col0\" class=\"data row4 col0\" >Product_Category_1_Count</td>\n",
       "                        <td id=\"T_244eed3c_fc9e_11e9_b1ad_832132638e92row4_col1\" class=\"data row4 col1\" >1.75</td>\n",
       "            </tr>\n",
       "            <tr>\n",
       "                        <th id=\"T_244eed3c_fc9e_11e9_b1ad_832132638e92level0_row5\" class=\"row_heading level0 row5\" >5</th>\n",
       "                        <td id=\"T_244eed3c_fc9e_11e9_b1ad_832132638e92row5_col0\" class=\"data row5 col0\" >Product_Category_1</td>\n",
       "                        <td id=\"T_244eed3c_fc9e_11e9_b1ad_832132638e92row5_col1\" class=\"data row5 col1\" >1.66</td>\n",
       "            </tr>\n",
       "            <tr>\n",
       "                        <th id=\"T_244eed3c_fc9e_11e9_b1ad_832132638e92level0_row6\" class=\"row_heading level0 row6\" >6</th>\n",
       "                        <td id=\"T_244eed3c_fc9e_11e9_b1ad_832132638e92row6_col0\" class=\"data row6 col0\" >User_ID_MaxPrice</td>\n",
       "                        <td id=\"T_244eed3c_fc9e_11e9_b1ad_832132638e92row6_col1\" class=\"data row6 col1\" >1.41</td>\n",
       "            </tr>\n",
       "            <tr>\n",
       "                        <th id=\"T_244eed3c_fc9e_11e9_b1ad_832132638e92level0_row7\" class=\"row_heading level0 row7\" >7</th>\n",
       "                        <td id=\"T_244eed3c_fc9e_11e9_b1ad_832132638e92row7_col0\" class=\"data row7 col0\" >Gender</td>\n",
       "                        <td id=\"T_244eed3c_fc9e_11e9_b1ad_832132638e92row7_col1\" class=\"data row7 col1\" >1.39</td>\n",
       "            </tr>\n",
       "            <tr>\n",
       "                        <th id=\"T_244eed3c_fc9e_11e9_b1ad_832132638e92level0_row8\" class=\"row_heading level0 row8\" >8</th>\n",
       "                        <td id=\"T_244eed3c_fc9e_11e9_b1ad_832132638e92row8_col0\" class=\"data row8 col0\" >User_ID_Count</td>\n",
       "                        <td id=\"T_244eed3c_fc9e_11e9_b1ad_832132638e92row8_col1\" class=\"data row8 col1\" >1.21</td>\n",
       "            </tr>\n",
       "            <tr>\n",
       "                        <th id=\"T_244eed3c_fc9e_11e9_b1ad_832132638e92level0_row9\" class=\"row_heading level0 row9\" >9</th>\n",
       "                        <td id=\"T_244eed3c_fc9e_11e9_b1ad_832132638e92row9_col0\" class=\"data row9 col0\" >Product_ID_Count</td>\n",
       "                        <td id=\"T_244eed3c_fc9e_11e9_b1ad_832132638e92row9_col1\" class=\"data row9 col1\" >1.16</td>\n",
       "            </tr>\n",
       "            <tr>\n",
       "                        <th id=\"T_244eed3c_fc9e_11e9_b1ad_832132638e92level0_row10\" class=\"row_heading level0 row10\" >10</th>\n",
       "                        <td id=\"T_244eed3c_fc9e_11e9_b1ad_832132638e92row10_col0\" class=\"data row10 col0\" >Product_Category_3_Count</td>\n",
       "                        <td id=\"T_244eed3c_fc9e_11e9_b1ad_832132638e92row10_col1\" class=\"data row10 col1\" >1.11</td>\n",
       "            </tr>\n",
       "            <tr>\n",
       "                        <th id=\"T_244eed3c_fc9e_11e9_b1ad_832132638e92level0_row11\" class=\"row_heading level0 row11\" >11</th>\n",
       "                        <td id=\"T_244eed3c_fc9e_11e9_b1ad_832132638e92row11_col0\" class=\"data row11 col0\" >Age</td>\n",
       "                        <td id=\"T_244eed3c_fc9e_11e9_b1ad_832132638e92row11_col1\" class=\"data row11 col1\" >1.01</td>\n",
       "            </tr>\n",
       "            <tr>\n",
       "                        <th id=\"T_244eed3c_fc9e_11e9_b1ad_832132638e92level0_row12\" class=\"row_heading level0 row12\" >12</th>\n",
       "                        <td id=\"T_244eed3c_fc9e_11e9_b1ad_832132638e92row12_col0\" class=\"data row12 col0\" >Age_Count</td>\n",
       "                        <td id=\"T_244eed3c_fc9e_11e9_b1ad_832132638e92row12_col1\" class=\"data row12 col1\" >1.01</td>\n",
       "            </tr>\n",
       "            <tr>\n",
       "                        <th id=\"T_244eed3c_fc9e_11e9_b1ad_832132638e92level0_row13\" class=\"row_heading level0 row13\" >13</th>\n",
       "                        <td id=\"T_244eed3c_fc9e_11e9_b1ad_832132638e92row13_col0\" class=\"data row13 col0\" >User_ID</td>\n",
       "                        <td id=\"T_244eed3c_fc9e_11e9_b1ad_832132638e92row13_col1\" class=\"data row13 col1\" >1</td>\n",
       "            </tr>\n",
       "            <tr>\n",
       "                        <th id=\"T_244eed3c_fc9e_11e9_b1ad_832132638e92level0_row14\" class=\"row_heading level0 row14\" >14</th>\n",
       "                        <td id=\"T_244eed3c_fc9e_11e9_b1ad_832132638e92row14_col0\" class=\"data row14 col0\" >User_ID_MinPrice</td>\n",
       "                        <td id=\"T_244eed3c_fc9e_11e9_b1ad_832132638e92row14_col1\" class=\"data row14 col1\" >0.99</td>\n",
       "            </tr>\n",
       "            <tr>\n",
       "                        <th id=\"T_244eed3c_fc9e_11e9_b1ad_832132638e92level0_row15\" class=\"row_heading level0 row15\" >15</th>\n",
       "                        <td id=\"T_244eed3c_fc9e_11e9_b1ad_832132638e92row15_col0\" class=\"data row15 col0\" >City_Category</td>\n",
       "                        <td id=\"T_244eed3c_fc9e_11e9_b1ad_832132638e92row15_col1\" class=\"data row15 col1\" >0.98</td>\n",
       "            </tr>\n",
       "            <tr>\n",
       "                        <th id=\"T_244eed3c_fc9e_11e9_b1ad_832132638e92level0_row16\" class=\"row_heading level0 row16\" >16</th>\n",
       "                        <td id=\"T_244eed3c_fc9e_11e9_b1ad_832132638e92row16_col0\" class=\"data row16 col0\" >Occupation_Count</td>\n",
       "                        <td id=\"T_244eed3c_fc9e_11e9_b1ad_832132638e92row16_col1\" class=\"data row16 col1\" >0.96</td>\n",
       "            </tr>\n",
       "            <tr>\n",
       "                        <th id=\"T_244eed3c_fc9e_11e9_b1ad_832132638e92level0_row17\" class=\"row_heading level0 row17\" >17</th>\n",
       "                        <td id=\"T_244eed3c_fc9e_11e9_b1ad_832132638e92row17_col0\" class=\"data row17 col0\" >Occupation</td>\n",
       "                        <td id=\"T_244eed3c_fc9e_11e9_b1ad_832132638e92row17_col1\" class=\"data row17 col1\" >0.94</td>\n",
       "            </tr>\n",
       "            <tr>\n",
       "                        <th id=\"T_244eed3c_fc9e_11e9_b1ad_832132638e92level0_row18\" class=\"row_heading level0 row18\" >18</th>\n",
       "                        <td id=\"T_244eed3c_fc9e_11e9_b1ad_832132638e92row18_col0\" class=\"data row18 col0\" >Product_Category_3</td>\n",
       "                        <td id=\"T_244eed3c_fc9e_11e9_b1ad_832132638e92row18_col1\" class=\"data row18 col1\" >0.93</td>\n",
       "            </tr>\n",
       "            <tr>\n",
       "                        <th id=\"T_244eed3c_fc9e_11e9_b1ad_832132638e92level0_row19\" class=\"row_heading level0 row19\" >19</th>\n",
       "                        <td id=\"T_244eed3c_fc9e_11e9_b1ad_832132638e92row19_col0\" class=\"data row19 col0\" >Product_ID</td>\n",
       "                        <td id=\"T_244eed3c_fc9e_11e9_b1ad_832132638e92row19_col1\" class=\"data row19 col1\" >0.92</td>\n",
       "            </tr>\n",
       "            <tr>\n",
       "                        <th id=\"T_244eed3c_fc9e_11e9_b1ad_832132638e92level0_row20\" class=\"row_heading level0 row20\" >20</th>\n",
       "                        <td id=\"T_244eed3c_fc9e_11e9_b1ad_832132638e92row20_col0\" class=\"data row20 col0\" >Stay_In_Current_City_Years</td>\n",
       "                        <td id=\"T_244eed3c_fc9e_11e9_b1ad_832132638e92row20_col1\" class=\"data row20 col1\" >0.91</td>\n",
       "            </tr>\n",
       "            <tr>\n",
       "                        <th id=\"T_244eed3c_fc9e_11e9_b1ad_832132638e92level0_row21\" class=\"row_heading level0 row21\" >21</th>\n",
       "                        <td id=\"T_244eed3c_fc9e_11e9_b1ad_832132638e92row21_col0\" class=\"data row21 col0\" >Product_Category_2</td>\n",
       "                        <td id=\"T_244eed3c_fc9e_11e9_b1ad_832132638e92row21_col1\" class=\"data row21 col1\" >0.91</td>\n",
       "            </tr>\n",
       "            <tr>\n",
       "                        <th id=\"T_244eed3c_fc9e_11e9_b1ad_832132638e92level0_row22\" class=\"row_heading level0 row22\" >22</th>\n",
       "                        <td id=\"T_244eed3c_fc9e_11e9_b1ad_832132638e92row22_col0\" class=\"data row22 col0\" >Product_Category_2_Count</td>\n",
       "                        <td id=\"T_244eed3c_fc9e_11e9_b1ad_832132638e92row22_col1\" class=\"data row22 col1\" >0.88</td>\n",
       "            </tr>\n",
       "            <tr>\n",
       "                        <th id=\"T_244eed3c_fc9e_11e9_b1ad_832132638e92level0_row23\" class=\"row_heading level0 row23\" >23</th>\n",
       "                        <td id=\"T_244eed3c_fc9e_11e9_b1ad_832132638e92row23_col0\" class=\"data row23 col0\" >Marital_Status</td>\n",
       "                        <td id=\"T_244eed3c_fc9e_11e9_b1ad_832132638e92row23_col1\" class=\"data row23 col1\" >0.84</td>\n",
       "            </tr>\n",
       "    </tbody></table>"
      ],
      "text/plain": [
       "<pandas.io.formats.style.Styler at 0x7fa59c07e160>"
      ]
     },
     "execution_count": 23,
     "metadata": {},
     "output_type": "execute_result"
    }
   ],
   "source": [
    "feature_important = model1.get_score(importance_type='gain')\n",
    "keys = list(feature_important.keys())\n",
    "values = list(feature_important.values())\n",
    "total = sum(values)\n",
    "new = [value * 100. / total for value in values]\n",
    "new = np.round(new,2)\n",
    "\n",
    "feature_importances = pd.DataFrame()\n",
    "feature_importances['Features'] = keys\n",
    "feature_importances['Importance (%)'] = new\n",
    "feature_importances = feature_importances.sort_values(['Importance (%)'],ascending=False).reset_index(drop=True)\n",
    "feature_importances\n",
    "feature_importances.style.set_properties(**{'font-size':'10pt'})"
   ]
  },
  {
   "cell_type": "markdown",
   "metadata": {},
   "source": [
    "Plotting the Feature importane on a scale of 0 to 100 (total combined features impoprtance =100)"
   ]
  },
  {
   "cell_type": "code",
   "execution_count": 24,
   "metadata": {},
   "outputs": [
    {
     "data": {
      "text/plain": [
       "Text(0, 0.5, 'Features')"
      ]
     },
     "execution_count": 24,
     "metadata": {},
     "output_type": "execute_result"
    },
    {
     "data": {
      "image/png": "[encoded data removed]",
      "text/plain": [
       "<Figure size 1440x576 with 1 Axes>"
      ]
     },
     "metadata": {
      "needs_background": "light"
     },
     "output_type": "display_data"
    }
   ],
   "source": [
    "plt.figure(figsize=(20, 8))\n",
    "sns.barplot(data=feature_importances, x='Importance (%)', y='Features');\n",
    "plt.title('Feature importance',fontsize=24)\n",
    "plt.xlabel('Importance (%)',fontsize=20)\n",
    "plt.yticks(fontsize=15)\n",
    "plt.xticks(fontsize=15)\n",
    "plt.ylabel('Features',fontsize=20)"
   ]
  },
  {
   "cell_type": "markdown",
   "metadata": {},
   "source": [
    "Generating predctions of Purchase feature on test set and exporting it to a csv file"
   ]
  },
  {
   "cell_type": "code",
   "execution_count": 25,
   "metadata": {},
   "outputs": [],
   "source": [
    "#This will take 17 mins to run\n",
    "xgtrain = xgb.DMatrix(train, label=train_y)\n",
    "xgtest = xgb.DMatrix(test)\n",
    "model1 = xgb.train(plst, xgtrain, num_rounds)\n",
    "\n",
    "#prediction1\n",
    "pred_xgb_m1 = model1.predict(xgtest)\n",
    "submission['Purchase'] = pred_xgb_m1\n",
    "submission.to_csv('xgb_model1.csv',index=False)"
   ]
  },
  {
   "cell_type": "markdown",
   "metadata": {},
   "source": [
    "**7. XG Boost model 2** (same as above, but with different hyperparameters and different set of features)"
   ]
  },
  {
   "cell_type": "code",
   "execution_count": 26,
   "metadata": {},
   "outputs": [],
   "source": [
    "X_train,X_test,Y_train,Y_test = train_test_split(train2,train_y,test_size=0.2,random_state=42)"
   ]
  },
  {
   "cell_type": "code",
   "execution_count": 27,
   "metadata": {},
   "outputs": [],
   "source": [
    "#These parameters are found using GridSearchCV by checking R2 score & RMSE on validation set\n",
    "params = {}\n",
    "params[\"eta\"] = 0.03\n",
    "params[\"min_child_weight\"] = 10\n",
    "params[\"subsample\"] = 0.8\n",
    "params[\"colsample_bytree\"] = 0.7\n",
    "params[\"max_depth\"] = 10\n",
    "params[\"seed\"] = 0\n",
    "plst = list(params.items())\n",
    "num_rounds = 1100\n",
    "import xgboost as xgb\n",
    "xgtrain = xgb.DMatrix(X_train, label=Y_train)\n",
    "xgtest = xgb.DMatrix(X_test)"
   ]
  },
  {
   "cell_type": "code",
   "execution_count": 28,
   "metadata": {},
   "outputs": [],
   "source": [
    "#Takes 18 minutes to train\n",
    "model2 = xgb.train(plst, xgtrain, num_rounds)"
   ]
  },
  {
   "cell_type": "markdown",
   "metadata": {},
   "source": [
    "Checking the R2 and RMSE score on validation set using XG Boost model **2**"
   ]
  },
  {
   "cell_type": "code",
   "execution_count": 29,
   "metadata": {},
   "outputs": [
    {
     "name": "stdout",
     "output_type": "stream",
     "text": [
      "RMSE Score:  2415.988043238194\n",
      "R2 Score: 0.7676925725333128\n"
     ]
    }
   ],
   "source": [
    "pred_test_y = model2.predict(xgtest)\n",
    "from sklearn.metrics import mean_squared_error, r2_score\n",
    "rmse = np.sqrt(mean_squared_error(pred_test_y, Y_test))\n",
    "print(\"RMSE Score: \",rmse)\n",
    "r2 = r2_score(Y_test, pred_test_y)\n",
    "\n",
    "print(\"R2 Score:\", r2)\n",
    "\n",
    "#This will print\n",
    "#RMSE Score:  2415.988043238194\n",
    "#R2 Score: 0.7676925725333128"
   ]
  },
  {
   "cell_type": "markdown",
   "metadata": {},
   "source": [
    "Getting the feature importance for XG Boost model **2** ,\n",
    "* type of feature importance = 'gain’: the average gain across all splits the feature is used in"
   ]
  },
  {
   "cell_type": "code",
   "execution_count": 30,
   "metadata": {},
   "outputs": [
    {
     "data": {
      "text/html": [
       "<style  type=\"text/css\" >\n",
       "    #T_47886b9e_fca2_11e9_b1ad_832132638e92row0_col0 {\n",
       "            font-size:  10pt;\n",
       "        }    #T_47886b9e_fca2_11e9_b1ad_832132638e92row0_col1 {\n",
       "            font-size:  10pt;\n",
       "        }    #T_47886b9e_fca2_11e9_b1ad_832132638e92row1_col0 {\n",
       "            font-size:  10pt;\n",
       "        }    #T_47886b9e_fca2_11e9_b1ad_832132638e92row1_col1 {\n",
       "            font-size:  10pt;\n",
       "        }    #T_47886b9e_fca2_11e9_b1ad_832132638e92row2_col0 {\n",
       "            font-size:  10pt;\n",
       "        }    #T_47886b9e_fca2_11e9_b1ad_832132638e92row2_col1 {\n",
       "            font-size:  10pt;\n",
       "        }    #T_47886b9e_fca2_11e9_b1ad_832132638e92row3_col0 {\n",
       "            font-size:  10pt;\n",
       "        }    #T_47886b9e_fca2_11e9_b1ad_832132638e92row3_col1 {\n",
       "            font-size:  10pt;\n",
       "        }    #T_47886b9e_fca2_11e9_b1ad_832132638e92row4_col0 {\n",
       "            font-size:  10pt;\n",
       "        }    #T_47886b9e_fca2_11e9_b1ad_832132638e92row4_col1 {\n",
       "            font-size:  10pt;\n",
       "        }    #T_47886b9e_fca2_11e9_b1ad_832132638e92row5_col0 {\n",
       "            font-size:  10pt;\n",
       "        }    #T_47886b9e_fca2_11e9_b1ad_832132638e92row5_col1 {\n",
       "            font-size:  10pt;\n",
       "        }    #T_47886b9e_fca2_11e9_b1ad_832132638e92row6_col0 {\n",
       "            font-size:  10pt;\n",
       "        }    #T_47886b9e_fca2_11e9_b1ad_832132638e92row6_col1 {\n",
       "            font-size:  10pt;\n",
       "        }    #T_47886b9e_fca2_11e9_b1ad_832132638e92row7_col0 {\n",
       "            font-size:  10pt;\n",
       "        }    #T_47886b9e_fca2_11e9_b1ad_832132638e92row7_col1 {\n",
       "            font-size:  10pt;\n",
       "        }    #T_47886b9e_fca2_11e9_b1ad_832132638e92row8_col0 {\n",
       "            font-size:  10pt;\n",
       "        }    #T_47886b9e_fca2_11e9_b1ad_832132638e92row8_col1 {\n",
       "            font-size:  10pt;\n",
       "        }    #T_47886b9e_fca2_11e9_b1ad_832132638e92row9_col0 {\n",
       "            font-size:  10pt;\n",
       "        }    #T_47886b9e_fca2_11e9_b1ad_832132638e92row9_col1 {\n",
       "            font-size:  10pt;\n",
       "        }    #T_47886b9e_fca2_11e9_b1ad_832132638e92row10_col0 {\n",
       "            font-size:  10pt;\n",
       "        }    #T_47886b9e_fca2_11e9_b1ad_832132638e92row10_col1 {\n",
       "            font-size:  10pt;\n",
       "        }    #T_47886b9e_fca2_11e9_b1ad_832132638e92row11_col0 {\n",
       "            font-size:  10pt;\n",
       "        }    #T_47886b9e_fca2_11e9_b1ad_832132638e92row11_col1 {\n",
       "            font-size:  10pt;\n",
       "        }    #T_47886b9e_fca2_11e9_b1ad_832132638e92row12_col0 {\n",
       "            font-size:  10pt;\n",
       "        }    #T_47886b9e_fca2_11e9_b1ad_832132638e92row12_col1 {\n",
       "            font-size:  10pt;\n",
       "        }    #T_47886b9e_fca2_11e9_b1ad_832132638e92row13_col0 {\n",
       "            font-size:  10pt;\n",
       "        }    #T_47886b9e_fca2_11e9_b1ad_832132638e92row13_col1 {\n",
       "            font-size:  10pt;\n",
       "        }    #T_47886b9e_fca2_11e9_b1ad_832132638e92row14_col0 {\n",
       "            font-size:  10pt;\n",
       "        }    #T_47886b9e_fca2_11e9_b1ad_832132638e92row14_col1 {\n",
       "            font-size:  10pt;\n",
       "        }    #T_47886b9e_fca2_11e9_b1ad_832132638e92row15_col0 {\n",
       "            font-size:  10pt;\n",
       "        }    #T_47886b9e_fca2_11e9_b1ad_832132638e92row15_col1 {\n",
       "            font-size:  10pt;\n",
       "        }    #T_47886b9e_fca2_11e9_b1ad_832132638e92row16_col0 {\n",
       "            font-size:  10pt;\n",
       "        }    #T_47886b9e_fca2_11e9_b1ad_832132638e92row16_col1 {\n",
       "            font-size:  10pt;\n",
       "        }    #T_47886b9e_fca2_11e9_b1ad_832132638e92row17_col0 {\n",
       "            font-size:  10pt;\n",
       "        }    #T_47886b9e_fca2_11e9_b1ad_832132638e92row17_col1 {\n",
       "            font-size:  10pt;\n",
       "        }    #T_47886b9e_fca2_11e9_b1ad_832132638e92row18_col0 {\n",
       "            font-size:  10pt;\n",
       "        }    #T_47886b9e_fca2_11e9_b1ad_832132638e92row18_col1 {\n",
       "            font-size:  10pt;\n",
       "        }    #T_47886b9e_fca2_11e9_b1ad_832132638e92row19_col0 {\n",
       "            font-size:  10pt;\n",
       "        }    #T_47886b9e_fca2_11e9_b1ad_832132638e92row19_col1 {\n",
       "            font-size:  10pt;\n",
       "        }    #T_47886b9e_fca2_11e9_b1ad_832132638e92row20_col0 {\n",
       "            font-size:  10pt;\n",
       "        }    #T_47886b9e_fca2_11e9_b1ad_832132638e92row20_col1 {\n",
       "            font-size:  10pt;\n",
       "        }    #T_47886b9e_fca2_11e9_b1ad_832132638e92row21_col0 {\n",
       "            font-size:  10pt;\n",
       "        }    #T_47886b9e_fca2_11e9_b1ad_832132638e92row21_col1 {\n",
       "            font-size:  10pt;\n",
       "        }    #T_47886b9e_fca2_11e9_b1ad_832132638e92row22_col0 {\n",
       "            font-size:  10pt;\n",
       "        }    #T_47886b9e_fca2_11e9_b1ad_832132638e92row22_col1 {\n",
       "            font-size:  10pt;\n",
       "        }    #T_47886b9e_fca2_11e9_b1ad_832132638e92row23_col0 {\n",
       "            font-size:  10pt;\n",
       "        }    #T_47886b9e_fca2_11e9_b1ad_832132638e92row23_col1 {\n",
       "            font-size:  10pt;\n",
       "        }    #T_47886b9e_fca2_11e9_b1ad_832132638e92row24_col0 {\n",
       "            font-size:  10pt;\n",
       "        }    #T_47886b9e_fca2_11e9_b1ad_832132638e92row24_col1 {\n",
       "            font-size:  10pt;\n",
       "        }    #T_47886b9e_fca2_11e9_b1ad_832132638e92row25_col0 {\n",
       "            font-size:  10pt;\n",
       "        }    #T_47886b9e_fca2_11e9_b1ad_832132638e92row25_col1 {\n",
       "            font-size:  10pt;\n",
       "        }    #T_47886b9e_fca2_11e9_b1ad_832132638e92row26_col0 {\n",
       "            font-size:  10pt;\n",
       "        }    #T_47886b9e_fca2_11e9_b1ad_832132638e92row26_col1 {\n",
       "            font-size:  10pt;\n",
       "        }    #T_47886b9e_fca2_11e9_b1ad_832132638e92row27_col0 {\n",
       "            font-size:  10pt;\n",
       "        }    #T_47886b9e_fca2_11e9_b1ad_832132638e92row27_col1 {\n",
       "            font-size:  10pt;\n",
       "        }    #T_47886b9e_fca2_11e9_b1ad_832132638e92row28_col0 {\n",
       "            font-size:  10pt;\n",
       "        }    #T_47886b9e_fca2_11e9_b1ad_832132638e92row28_col1 {\n",
       "            font-size:  10pt;\n",
       "        }    #T_47886b9e_fca2_11e9_b1ad_832132638e92row29_col0 {\n",
       "            font-size:  10pt;\n",
       "        }    #T_47886b9e_fca2_11e9_b1ad_832132638e92row29_col1 {\n",
       "            font-size:  10pt;\n",
       "        }    #T_47886b9e_fca2_11e9_b1ad_832132638e92row30_col0 {\n",
       "            font-size:  10pt;\n",
       "        }    #T_47886b9e_fca2_11e9_b1ad_832132638e92row30_col1 {\n",
       "            font-size:  10pt;\n",
       "        }    #T_47886b9e_fca2_11e9_b1ad_832132638e92row31_col0 {\n",
       "            font-size:  10pt;\n",
       "        }    #T_47886b9e_fca2_11e9_b1ad_832132638e92row31_col1 {\n",
       "            font-size:  10pt;\n",
       "        }    #T_47886b9e_fca2_11e9_b1ad_832132638e92row32_col0 {\n",
       "            font-size:  10pt;\n",
       "        }    #T_47886b9e_fca2_11e9_b1ad_832132638e92row32_col1 {\n",
       "            font-size:  10pt;\n",
       "        }    #T_47886b9e_fca2_11e9_b1ad_832132638e92row33_col0 {\n",
       "            font-size:  10pt;\n",
       "        }    #T_47886b9e_fca2_11e9_b1ad_832132638e92row33_col1 {\n",
       "            font-size:  10pt;\n",
       "        }    #T_47886b9e_fca2_11e9_b1ad_832132638e92row34_col0 {\n",
       "            font-size:  10pt;\n",
       "        }    #T_47886b9e_fca2_11e9_b1ad_832132638e92row34_col1 {\n",
       "            font-size:  10pt;\n",
       "        }    #T_47886b9e_fca2_11e9_b1ad_832132638e92row35_col0 {\n",
       "            font-size:  10pt;\n",
       "        }    #T_47886b9e_fca2_11e9_b1ad_832132638e92row35_col1 {\n",
       "            font-size:  10pt;\n",
       "        }    #T_47886b9e_fca2_11e9_b1ad_832132638e92row36_col0 {\n",
       "            font-size:  10pt;\n",
       "        }    #T_47886b9e_fca2_11e9_b1ad_832132638e92row36_col1 {\n",
       "            font-size:  10pt;\n",
       "        }</style><table id=\"T_47886b9e_fca2_11e9_b1ad_832132638e92\" ><thead>    <tr>        <th class=\"blank level0\" ></th>        <th class=\"col_heading level0 col0\" >Features</th>        <th class=\"col_heading level0 col1\" >Importance (%)</th>    </tr></thead><tbody>\n",
       "                <tr>\n",
       "                        <th id=\"T_47886b9e_fca2_11e9_b1ad_832132638e92level0_row0\" class=\"row_heading level0 row0\" >0</th>\n",
       "                        <td id=\"T_47886b9e_fca2_11e9_b1ad_832132638e92row0_col0\" class=\"data row0 col0\" >Product_Cat1_MinPrice</td>\n",
       "                        <td id=\"T_47886b9e_fca2_11e9_b1ad_832132638e92row0_col1\" class=\"data row0 col1\" >35.73</td>\n",
       "            </tr>\n",
       "            <tr>\n",
       "                        <th id=\"T_47886b9e_fca2_11e9_b1ad_832132638e92level0_row1\" class=\"row_heading level0 row1\" >1</th>\n",
       "                        <td id=\"T_47886b9e_fca2_11e9_b1ad_832132638e92row1_col0\" class=\"data row1 col0\" >Product_ID_75PercPrice</td>\n",
       "                        <td id=\"T_47886b9e_fca2_11e9_b1ad_832132638e92row1_col1\" class=\"data row1 col1\" >25.42</td>\n",
       "            </tr>\n",
       "            <tr>\n",
       "                        <th id=\"T_47886b9e_fca2_11e9_b1ad_832132638e92level0_row2\" class=\"row_heading level0 row2\" >2</th>\n",
       "                        <td id=\"T_47886b9e_fca2_11e9_b1ad_832132638e92row2_col0\" class=\"data row2 col0\" >Product_Cat1_MaxPrice</td>\n",
       "                        <td id=\"T_47886b9e_fca2_11e9_b1ad_832132638e92row2_col1\" class=\"data row2 col1\" >8.61</td>\n",
       "            </tr>\n",
       "            <tr>\n",
       "                        <th id=\"T_47886b9e_fca2_11e9_b1ad_832132638e92level0_row3\" class=\"row_heading level0 row3\" >3</th>\n",
       "                        <td id=\"T_47886b9e_fca2_11e9_b1ad_832132638e92row3_col0\" class=\"data row3 col0\" >Product_ID_25PercPrice</td>\n",
       "                        <td id=\"T_47886b9e_fca2_11e9_b1ad_832132638e92row3_col1\" class=\"data row3 col1\" >6.07</td>\n",
       "            </tr>\n",
       "            <tr>\n",
       "                        <th id=\"T_47886b9e_fca2_11e9_b1ad_832132638e92level0_row4\" class=\"row_heading level0 row4\" >4</th>\n",
       "                        <td id=\"T_47886b9e_fca2_11e9_b1ad_832132638e92row4_col0\" class=\"data row4 col0\" >Product_Cat1_MeanPrice</td>\n",
       "                        <td id=\"T_47886b9e_fca2_11e9_b1ad_832132638e92row4_col1\" class=\"data row4 col1\" >4.06</td>\n",
       "            </tr>\n",
       "            <tr>\n",
       "                        <th id=\"T_47886b9e_fca2_11e9_b1ad_832132638e92level0_row5\" class=\"row_heading level0 row5\" >5</th>\n",
       "                        <td id=\"T_47886b9e_fca2_11e9_b1ad_832132638e92row5_col0\" class=\"data row5 col0\" >Product_Category_1_Count</td>\n",
       "                        <td id=\"T_47886b9e_fca2_11e9_b1ad_832132638e92row5_col1\" class=\"data row5 col1\" >2.81</td>\n",
       "            </tr>\n",
       "            <tr>\n",
       "                        <th id=\"T_47886b9e_fca2_11e9_b1ad_832132638e92level0_row6\" class=\"row_heading level0 row6\" >6</th>\n",
       "                        <td id=\"T_47886b9e_fca2_11e9_b1ad_832132638e92row6_col0\" class=\"data row6 col0\" >Product_Cat1_25PercPrice</td>\n",
       "                        <td id=\"T_47886b9e_fca2_11e9_b1ad_832132638e92row6_col1\" class=\"data row6 col1\" >1.18</td>\n",
       "            </tr>\n",
       "            <tr>\n",
       "                        <th id=\"T_47886b9e_fca2_11e9_b1ad_832132638e92level0_row7\" class=\"row_heading level0 row7\" >7</th>\n",
       "                        <td id=\"T_47886b9e_fca2_11e9_b1ad_832132638e92row7_col0\" class=\"data row7 col0\" >User_ID_75PercPrice</td>\n",
       "                        <td id=\"T_47886b9e_fca2_11e9_b1ad_832132638e92row7_col1\" class=\"data row7 col1\" >1.12</td>\n",
       "            </tr>\n",
       "            <tr>\n",
       "                        <th id=\"T_47886b9e_fca2_11e9_b1ad_832132638e92level0_row8\" class=\"row_heading level0 row8\" >8</th>\n",
       "                        <td id=\"T_47886b9e_fca2_11e9_b1ad_832132638e92row8_col0\" class=\"data row8 col0\" >User_ID_25PercPrice</td>\n",
       "                        <td id=\"T_47886b9e_fca2_11e9_b1ad_832132638e92row8_col1\" class=\"data row8 col1\" >1.12</td>\n",
       "            </tr>\n",
       "            <tr>\n",
       "                        <th id=\"T_47886b9e_fca2_11e9_b1ad_832132638e92level0_row9\" class=\"row_heading level0 row9\" >9</th>\n",
       "                        <td id=\"T_47886b9e_fca2_11e9_b1ad_832132638e92row9_col0\" class=\"data row9 col0\" >Product_Category_1</td>\n",
       "                        <td id=\"T_47886b9e_fca2_11e9_b1ad_832132638e92row9_col1\" class=\"data row9 col1\" >0.81</td>\n",
       "            </tr>\n",
       "            <tr>\n",
       "                        <th id=\"T_47886b9e_fca2_11e9_b1ad_832132638e92level0_row10\" class=\"row_heading level0 row10\" >10</th>\n",
       "                        <td id=\"T_47886b9e_fca2_11e9_b1ad_832132638e92row10_col0\" class=\"data row10 col0\" >Product_Cat1_75PercPrice</td>\n",
       "                        <td id=\"T_47886b9e_fca2_11e9_b1ad_832132638e92row10_col1\" class=\"data row10 col1\" >0.76</td>\n",
       "            </tr>\n",
       "            <tr>\n",
       "                        <th id=\"T_47886b9e_fca2_11e9_b1ad_832132638e92level0_row11\" class=\"row_heading level0 row11\" >11</th>\n",
       "                        <td id=\"T_47886b9e_fca2_11e9_b1ad_832132638e92row11_col0\" class=\"data row11 col0\" >Product_ID_Count</td>\n",
       "                        <td id=\"T_47886b9e_fca2_11e9_b1ad_832132638e92row11_col1\" class=\"data row11 col1\" >0.76</td>\n",
       "            </tr>\n",
       "            <tr>\n",
       "                        <th id=\"T_47886b9e_fca2_11e9_b1ad_832132638e92level0_row12\" class=\"row_heading level0 row12\" >12</th>\n",
       "                        <td id=\"T_47886b9e_fca2_11e9_b1ad_832132638e92row12_col0\" class=\"data row12 col0\" >Gender</td>\n",
       "                        <td id=\"T_47886b9e_fca2_11e9_b1ad_832132638e92row12_col1\" class=\"data row12 col1\" >0.58</td>\n",
       "            </tr>\n",
       "            <tr>\n",
       "                        <th id=\"T_47886b9e_fca2_11e9_b1ad_832132638e92level0_row13\" class=\"row_heading level0 row13\" >13</th>\n",
       "                        <td id=\"T_47886b9e_fca2_11e9_b1ad_832132638e92row13_col0\" class=\"data row13 col0\" >User_ID_Count</td>\n",
       "                        <td id=\"T_47886b9e_fca2_11e9_b1ad_832132638e92row13_col1\" class=\"data row13 col1\" >0.55</td>\n",
       "            </tr>\n",
       "            <tr>\n",
       "                        <th id=\"T_47886b9e_fca2_11e9_b1ad_832132638e92level0_row14\" class=\"row_heading level0 row14\" >14</th>\n",
       "                        <td id=\"T_47886b9e_fca2_11e9_b1ad_832132638e92row14_col0\" class=\"data row14 col0\" >Product_Cat3_75PercPrice</td>\n",
       "                        <td id=\"T_47886b9e_fca2_11e9_b1ad_832132638e92row14_col1\" class=\"data row14 col1\" >0.53</td>\n",
       "            </tr>\n",
       "            <tr>\n",
       "                        <th id=\"T_47886b9e_fca2_11e9_b1ad_832132638e92level0_row15\" class=\"row_heading level0 row15\" >15</th>\n",
       "                        <td id=\"T_47886b9e_fca2_11e9_b1ad_832132638e92row15_col0\" class=\"data row15 col0\" >Product_Category_3_Count</td>\n",
       "                        <td id=\"T_47886b9e_fca2_11e9_b1ad_832132638e92row15_col1\" class=\"data row15 col1\" >0.5</td>\n",
       "            </tr>\n",
       "            <tr>\n",
       "                        <th id=\"T_47886b9e_fca2_11e9_b1ad_832132638e92level0_row16\" class=\"row_heading level0 row16\" >16</th>\n",
       "                        <td id=\"T_47886b9e_fca2_11e9_b1ad_832132638e92row16_col0\" class=\"data row16 col0\" >Product_Cat3_MinPrice</td>\n",
       "                        <td id=\"T_47886b9e_fca2_11e9_b1ad_832132638e92row16_col1\" class=\"data row16 col1\" >0.5</td>\n",
       "            </tr>\n",
       "            <tr>\n",
       "                        <th id=\"T_47886b9e_fca2_11e9_b1ad_832132638e92level0_row17\" class=\"row_heading level0 row17\" >17</th>\n",
       "                        <td id=\"T_47886b9e_fca2_11e9_b1ad_832132638e92row17_col0\" class=\"data row17 col0\" >Product_Cat3_25PercPrice</td>\n",
       "                        <td id=\"T_47886b9e_fca2_11e9_b1ad_832132638e92row17_col1\" class=\"data row17 col1\" >0.49</td>\n",
       "            </tr>\n",
       "            <tr>\n",
       "                        <th id=\"T_47886b9e_fca2_11e9_b1ad_832132638e92level0_row18\" class=\"row_heading level0 row18\" >18</th>\n",
       "                        <td id=\"T_47886b9e_fca2_11e9_b1ad_832132638e92row18_col0\" class=\"data row18 col0\" >Product_Cat3_MeanPrice</td>\n",
       "                        <td id=\"T_47886b9e_fca2_11e9_b1ad_832132638e92row18_col1\" class=\"data row18 col1\" >0.48</td>\n",
       "            </tr>\n",
       "            <tr>\n",
       "                        <th id=\"T_47886b9e_fca2_11e9_b1ad_832132638e92level0_row19\" class=\"row_heading level0 row19\" >19</th>\n",
       "                        <td id=\"T_47886b9e_fca2_11e9_b1ad_832132638e92row19_col0\" class=\"data row19 col0\" >Product_Cat2_MaxPrice</td>\n",
       "                        <td id=\"T_47886b9e_fca2_11e9_b1ad_832132638e92row19_col1\" class=\"data row19 col1\" >0.48</td>\n",
       "            </tr>\n",
       "            <tr>\n",
       "                        <th id=\"T_47886b9e_fca2_11e9_b1ad_832132638e92level0_row20\" class=\"row_heading level0 row20\" >20</th>\n",
       "                        <td id=\"T_47886b9e_fca2_11e9_b1ad_832132638e92row20_col0\" class=\"data row20 col0\" >Product_Cat2_25PercPrice</td>\n",
       "                        <td id=\"T_47886b9e_fca2_11e9_b1ad_832132638e92row20_col1\" class=\"data row20 col1\" >0.47</td>\n",
       "            </tr>\n",
       "            <tr>\n",
       "                        <th id=\"T_47886b9e_fca2_11e9_b1ad_832132638e92level0_row21\" class=\"row_heading level0 row21\" >21</th>\n",
       "                        <td id=\"T_47886b9e_fca2_11e9_b1ad_832132638e92row21_col0\" class=\"data row21 col0\" >User_ID</td>\n",
       "                        <td id=\"T_47886b9e_fca2_11e9_b1ad_832132638e92row21_col1\" class=\"data row21 col1\" >0.47</td>\n",
       "            </tr>\n",
       "            <tr>\n",
       "                        <th id=\"T_47886b9e_fca2_11e9_b1ad_832132638e92level0_row22\" class=\"row_heading level0 row22\" >22</th>\n",
       "                        <td id=\"T_47886b9e_fca2_11e9_b1ad_832132638e92row22_col0\" class=\"data row22 col0\" >Product_Category_3</td>\n",
       "                        <td id=\"T_47886b9e_fca2_11e9_b1ad_832132638e92row22_col1\" class=\"data row22 col1\" >0.47</td>\n",
       "            </tr>\n",
       "            <tr>\n",
       "                        <th id=\"T_47886b9e_fca2_11e9_b1ad_832132638e92level0_row23\" class=\"row_heading level0 row23\" >23</th>\n",
       "                        <td id=\"T_47886b9e_fca2_11e9_b1ad_832132638e92row23_col0\" class=\"data row23 col0\" >Occupation_Count</td>\n",
       "                        <td id=\"T_47886b9e_fca2_11e9_b1ad_832132638e92row23_col1\" class=\"data row23 col1\" >0.46</td>\n",
       "            </tr>\n",
       "            <tr>\n",
       "                        <th id=\"T_47886b9e_fca2_11e9_b1ad_832132638e92level0_row24\" class=\"row_heading level0 row24\" >24</th>\n",
       "                        <td id=\"T_47886b9e_fca2_11e9_b1ad_832132638e92row24_col0\" class=\"data row24 col0\" >Age</td>\n",
       "                        <td id=\"T_47886b9e_fca2_11e9_b1ad_832132638e92row24_col1\" class=\"data row24 col1\" >0.46</td>\n",
       "            </tr>\n",
       "            <tr>\n",
       "                        <th id=\"T_47886b9e_fca2_11e9_b1ad_832132638e92level0_row25\" class=\"row_heading level0 row25\" >25</th>\n",
       "                        <td id=\"T_47886b9e_fca2_11e9_b1ad_832132638e92row25_col0\" class=\"data row25 col0\" >Product_Cat3_MaxPrice</td>\n",
       "                        <td id=\"T_47886b9e_fca2_11e9_b1ad_832132638e92row25_col1\" class=\"data row25 col1\" >0.46</td>\n",
       "            </tr>\n",
       "            <tr>\n",
       "                        <th id=\"T_47886b9e_fca2_11e9_b1ad_832132638e92level0_row26\" class=\"row_heading level0 row26\" >26</th>\n",
       "                        <td id=\"T_47886b9e_fca2_11e9_b1ad_832132638e92row26_col0\" class=\"data row26 col0\" >Age_Count</td>\n",
       "                        <td id=\"T_47886b9e_fca2_11e9_b1ad_832132638e92row26_col1\" class=\"data row26 col1\" >0.45</td>\n",
       "            </tr>\n",
       "            <tr>\n",
       "                        <th id=\"T_47886b9e_fca2_11e9_b1ad_832132638e92level0_row27\" class=\"row_heading level0 row27\" >27</th>\n",
       "                        <td id=\"T_47886b9e_fca2_11e9_b1ad_832132638e92row27_col0\" class=\"data row27 col0\" >Product_Category_2_Count</td>\n",
       "                        <td id=\"T_47886b9e_fca2_11e9_b1ad_832132638e92row27_col1\" class=\"data row27 col1\" >0.45</td>\n",
       "            </tr>\n",
       "            <tr>\n",
       "                        <th id=\"T_47886b9e_fca2_11e9_b1ad_832132638e92level0_row28\" class=\"row_heading level0 row28\" >28</th>\n",
       "                        <td id=\"T_47886b9e_fca2_11e9_b1ad_832132638e92row28_col0\" class=\"data row28 col0\" >City_Category</td>\n",
       "                        <td id=\"T_47886b9e_fca2_11e9_b1ad_832132638e92row28_col1\" class=\"data row28 col1\" >0.45</td>\n",
       "            </tr>\n",
       "            <tr>\n",
       "                        <th id=\"T_47886b9e_fca2_11e9_b1ad_832132638e92level0_row29\" class=\"row_heading level0 row29\" >29</th>\n",
       "                        <td id=\"T_47886b9e_fca2_11e9_b1ad_832132638e92row29_col0\" class=\"data row29 col0\" >Product_Cat2_MinPrice</td>\n",
       "                        <td id=\"T_47886b9e_fca2_11e9_b1ad_832132638e92row29_col1\" class=\"data row29 col1\" >0.44</td>\n",
       "            </tr>\n",
       "            <tr>\n",
       "                        <th id=\"T_47886b9e_fca2_11e9_b1ad_832132638e92level0_row30\" class=\"row_heading level0 row30\" >30</th>\n",
       "                        <td id=\"T_47886b9e_fca2_11e9_b1ad_832132638e92row30_col0\" class=\"data row30 col0\" >Occupation</td>\n",
       "                        <td id=\"T_47886b9e_fca2_11e9_b1ad_832132638e92row30_col1\" class=\"data row30 col1\" >0.43</td>\n",
       "            </tr>\n",
       "            <tr>\n",
       "                        <th id=\"T_47886b9e_fca2_11e9_b1ad_832132638e92level0_row31\" class=\"row_heading level0 row31\" >31</th>\n",
       "                        <td id=\"T_47886b9e_fca2_11e9_b1ad_832132638e92row31_col0\" class=\"data row31 col0\" >Product_Cat2_MeanPrice</td>\n",
       "                        <td id=\"T_47886b9e_fca2_11e9_b1ad_832132638e92row31_col1\" class=\"data row31 col1\" >0.42</td>\n",
       "            </tr>\n",
       "            <tr>\n",
       "                        <th id=\"T_47886b9e_fca2_11e9_b1ad_832132638e92level0_row32\" class=\"row_heading level0 row32\" >32</th>\n",
       "                        <td id=\"T_47886b9e_fca2_11e9_b1ad_832132638e92row32_col0\" class=\"data row32 col0\" >Product_Cat2_75PercPrice</td>\n",
       "                        <td id=\"T_47886b9e_fca2_11e9_b1ad_832132638e92row32_col1\" class=\"data row32 col1\" >0.42</td>\n",
       "            </tr>\n",
       "            <tr>\n",
       "                        <th id=\"T_47886b9e_fca2_11e9_b1ad_832132638e92level0_row33\" class=\"row_heading level0 row33\" >33</th>\n",
       "                        <td id=\"T_47886b9e_fca2_11e9_b1ad_832132638e92row33_col0\" class=\"data row33 col0\" >Stay_In_Current_City_Years</td>\n",
       "                        <td id=\"T_47886b9e_fca2_11e9_b1ad_832132638e92row33_col1\" class=\"data row33 col1\" >0.41</td>\n",
       "            </tr>\n",
       "            <tr>\n",
       "                        <th id=\"T_47886b9e_fca2_11e9_b1ad_832132638e92level0_row34\" class=\"row_heading level0 row34\" >34</th>\n",
       "                        <td id=\"T_47886b9e_fca2_11e9_b1ad_832132638e92row34_col0\" class=\"data row34 col0\" >Product_Category_2</td>\n",
       "                        <td id=\"T_47886b9e_fca2_11e9_b1ad_832132638e92row34_col1\" class=\"data row34 col1\" >0.4</td>\n",
       "            </tr>\n",
       "            <tr>\n",
       "                        <th id=\"T_47886b9e_fca2_11e9_b1ad_832132638e92level0_row35\" class=\"row_heading level0 row35\" >35</th>\n",
       "                        <td id=\"T_47886b9e_fca2_11e9_b1ad_832132638e92row35_col0\" class=\"data row35 col0\" >Product_ID</td>\n",
       "                        <td id=\"T_47886b9e_fca2_11e9_b1ad_832132638e92row35_col1\" class=\"data row35 col1\" >0.4</td>\n",
       "            </tr>\n",
       "            <tr>\n",
       "                        <th id=\"T_47886b9e_fca2_11e9_b1ad_832132638e92level0_row36\" class=\"row_heading level0 row36\" >36</th>\n",
       "                        <td id=\"T_47886b9e_fca2_11e9_b1ad_832132638e92row36_col0\" class=\"data row36 col0\" >Marital_Status</td>\n",
       "                        <td id=\"T_47886b9e_fca2_11e9_b1ad_832132638e92row36_col1\" class=\"data row36 col1\" >0.38</td>\n",
       "            </tr>\n",
       "    </tbody></table>"
      ],
      "text/plain": [
       "<pandas.io.formats.style.Styler at 0x7fa5882cee48>"
      ]
     },
     "execution_count": 30,
     "metadata": {},
     "output_type": "execute_result"
    }
   ],
   "source": [
    "feature_important = model2.get_score(importance_type='gain')\n",
    "keys = list(feature_important.keys())\n",
    "values = list(feature_important.values())\n",
    "total = sum(values)\n",
    "new = [value * 100. / total for value in values]\n",
    "new = np.round(new,2)\n",
    "\n",
    "feature_importances = pd.DataFrame()\n",
    "feature_importances['Features'] = keys\n",
    "feature_importances['Importance (%)'] = new\n",
    "feature_importances = feature_importances.sort_values(['Importance (%)'],ascending=False).reset_index(drop=True)\n",
    "feature_importances\n",
    "feature_importances.style.set_properties(**{'font-size':'10pt'})"
   ]
  },
  {
   "cell_type": "markdown",
   "metadata": {},
   "source": [
    "Plotting the Feature importane on a scale of 0 to 100 (total combined features impoprtance =100)"
   ]
  },
  {
   "cell_type": "code",
   "execution_count": 31,
   "metadata": {},
   "outputs": [
    {
     "data": {
      "text/plain": [
       "Text(0, 0.5, 'Features')"
      ]
     },
     "execution_count": 31,
     "metadata": {},
     "output_type": "execute_result"
    },
    {
     "data": {
      "image/png": "[encoded data removed]",
      "text/plain": [
       "<Figure size 1440x792 with 1 Axes>"
      ]
     },
     "metadata": {
      "needs_background": "light"
     },
     "output_type": "display_data"
    }
   ],
   "source": [
    "plt.figure(figsize=(20, 11))\n",
    "sns.barplot(data=feature_importances, x='Importance (%)', y='Features');\n",
    "plt.title('Feature importance',fontsize=24)\n",
    "plt.xlabel('Importance (%)',fontsize=20)\n",
    "plt.yticks(fontsize=15)\n",
    "plt.xticks(fontsize=15)\n",
    "plt.ylabel('Features',fontsize=20)"
   ]
  },
  {
   "cell_type": "markdown",
   "metadata": {},
   "source": [
    "Generating XG Boost model 2 predictions"
   ]
  },
  {
   "cell_type": "code",
   "execution_count": 32,
   "metadata": {},
   "outputs": [],
   "source": [
    "xgtrain = xgb.DMatrix(train2, label=train_y)\n",
    "xgtest = xgb.DMatrix(test2)\n",
    "model2 = xgb.train(plst, xgtrain, num_rounds)\n",
    "\n",
    "#prediction2\n",
    "pred_xgb_m2 = model2.predict(xgtest)\n",
    "submission['Purchase'] = pred_xgb_m2\n",
    "submission.to_csv('xgb_model2.csv',index=False)"
   ]
  },
  {
   "cell_type": "markdown",
   "metadata": {},
   "source": [
    "**Ensemble Model**"
   ]
  },
  {
   "cell_type": "markdown",
   "metadata": {},
   "source": [
    "Weighted Average of the above 2 XG Boost models"
   ]
  },
  {
   "cell_type": "code",
   "execution_count": 33,
   "metadata": {},
   "outputs": [],
   "source": [
    "submission['Purchase'] = 0.3*pred_xgb_m1 + 0.7*pred_xgb_m2\n",
    "submission.to_csv('A016AmanJain.csv',index=False)"
   ]
  }
 ],
 "metadata": {
  "kernelspec": {
   "display_name": "Python 3",
   "language": "python",
   "name": "python3"
  },
  "language_info": {
   "codemirror_mode": {
    "name": "ipython",
    "version": 3
   },
   "file_extension": ".py",
   "mimetype": "text/x-python",
   "name": "python",
   "nbconvert_exporter": "python",
   "pygments_lexer": "ipython3",
   "version": "3.6.6"
  }
 },
 "nbformat": 4,
 "nbformat_minor": 1
}
